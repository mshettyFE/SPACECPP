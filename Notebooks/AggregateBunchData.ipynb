{
 "cells": [
  {
   "cell_type": "code",
   "execution_count": 81,
   "id": "027e1fcb-7464-4146-ad6f-f8fad2e7019f",
   "metadata": {},
   "outputs": [],
   "source": [
    "# Code that aggregates all the Bunch data into a single np array for further processing\n",
    "import matplotlib.pyplot as plt\n",
    "import numpy as np\n",
    "import sys,os\n",
    "\n",
    "# relative path to where Bunch data is stored as .csv files\n",
    "base_path = \"../build/data\"\n",
    "# preappend to each file\n",
    "preappend = \"\"\n",
    "# number of turns simulation was performed at\n",
    "nturns = 10\n",
    "# number of bunches simulated\n",
    "nbunches= 1320\n",
    "# number of particles per bunch simulatated\n",
    "nparticles = 2000\n",
    "# number of coordinates in consideration\n",
    "#  - Tau: 0\n",
    "#  - Delta: 1\n",
    "#  - X: 2\n",
    "#  - PX: 3\n",
    "#  - Y: 4\n",
    "#  - PY: 5\n",
    "ncoordinates = 6\n",
    "# final output containing data. \n",
    "Bunch_data = np.zeros((nturns,nbunches,nparticles,ncoordinates))"
   ]
  },
  {
   "cell_type": "code",
   "execution_count": 82,
   "id": "449c7160-671d-4cba-aef2-815d86281dc1",
   "metadata": {},
   "outputs": [],
   "source": [
    "def read_Bunch_data(path_name,nparticles, ncoordinates, sep=','):\n",
    "# function to read in data from a single bunch and place in a numpy array\n",
    "    try:\n",
    "        with open(path_name,'r') as f:\n",
    "            dump = f.readlines()\n",
    "    except:\n",
    "        msg = path_name+\" doesn't exist\"\n",
    "        sys.exit(msg)\n",
    "    output = np.zeros((nparticles,ncoordinates))\n",
    "    # ignore first line since those are column names\n",
    "    index = 0\n",
    "    for line in dump[1:]:\n",
    "        split = line.split(',')\n",
    "    # replace linebreak in last character slot\n",
    "        split[-1] = split[-1].replace('\\n','')\n",
    "    # convert string to floats\n",
    "        split = [float(x) for x in split]\n",
    "    # assign particle to array\n",
    "        output[index,:] = split\n",
    "        index += 1\n",
    "    return output\n",
    "\n",
    "# Example of using read_Bunch_data\n",
    "# read_Bunch_data(base_path+\"/_Bunch_0_turn_0.csv\",nparticles, ncoordinates)"
   ]
  },
  {
   "cell_type": "code",
   "execution_count": 83,
   "id": "d98d3833-6526-40c5-95b9-43f3389d9d81",
   "metadata": {},
   "outputs": [],
   "source": [
    "def generate_filepath(base_path,bunch_id, turn_number, preappend=\"\"):\n",
    "    fname = preappend+\"_Bunch_\"+str(bunch_id)+\"_turn_\"+str(turn_number)+\".csv\"\n",
    "    return os.path.join(base_path,fname)\n",
    "# Example function call to generate path to bunch data\n",
    "# generate_filepath(base_path,10,20)"
   ]
  },
  {
   "cell_type": "code",
   "execution_count": 92,
   "id": "b08cb022-d422-40e9-abb4-fbaf50a760d3",
   "metadata": {},
   "outputs": [
    {
     "name": "stdout",
     "output_type": "stream",
     "text": [
      "Finished\n"
     ]
    }
   ],
   "source": [
    "for bunch in range(0,nbunches):\n",
    "    for turn in range(0,nturns):\n",
    "        fpath = generate_filepath(base_path,bunch,turn,preappend)\n",
    "        bdata = read_Bunch_data(fpath,nparticles, ncoordinates)\n",
    "        Bunch_data[turn,bunch,:,:] = bdata\n",
    "print(\"Finished\")\n",
    "# indicies of Bunch_data: turns, bunch, particle, coordinate\n",
    "# at this point, you could save this to disk via np.save() function, or you can use as is (see below)"
   ]
  },
  {
   "cell_type": "code",
   "execution_count": 10,
   "id": "2ed19e68-6ffb-467c-bf0f-f82ad4eea264",
   "metadata": {},
   "outputs": [
    {
     "data": {
      "text/plain": [
       "(5, 1320, 2000, 6)"
      ]
     },
     "execution_count": 10,
     "metadata": {},
     "output_type": "execute_result"
    }
   ],
   "source": [
    "Bunch_data.shape"
   ]
  },
  {
   "cell_type": "code",
   "execution_count": 102,
   "id": "df69d956-0782-4326-889b-da4d594bf31c",
   "metadata": {},
   "outputs": [
    {
     "data": {
      "text/plain": [
       "(array([  1.,   1.,   1.,   1.,   0.,   7.,   3.,   4.,   6.,   7.,   9.,\n",
       "         12.,  16.,  17.,  21.,  28.,  39.,  40.,  46.,  60.,  54.,  68.,\n",
       "        108., 133., 154., 270., 179., 107., 108.,  98.,  82.,  64.,  34.,\n",
       "         39.,  38.,  28.,  24.,  22.,  13.,  11.,  11.,   9.,   6.,   9.,\n",
       "          1.,   5.,   2.,   1.,   1.,   1.,   1.]),\n",
       " array([-43.2063    , -41.51800588, -39.82971176, -38.14141765,\n",
       "        -36.45312353, -34.76482941, -33.07653529, -31.38824118,\n",
       "        -29.69994706, -28.01165294, -26.32335882, -24.63506471,\n",
       "        -22.94677059, -21.25847647, -19.57018235, -17.88188824,\n",
       "        -16.19359412, -14.5053    , -12.81700588, -11.12871176,\n",
       "         -9.44041765,  -7.75212353,  -6.06382941,  -4.37553529,\n",
       "         -2.68724118,  -0.99894706,   0.68934706,   2.37764118,\n",
       "          4.06593529,   5.75422941,   7.44252353,   9.13081765,\n",
       "         10.81911176,  12.50740588,  14.1957    ,  15.88399412,\n",
       "         17.57228824,  19.26058235,  20.94887647,  22.63717059,\n",
       "         24.32546471,  26.01375882,  27.70205294,  29.39034706,\n",
       "         31.07864118,  32.76693529,  34.45522941,  36.14352353,\n",
       "         37.83181765,  39.52011176,  41.20840588,  42.8967    ]),\n",
       " <BarContainer object of 51 artists>)"
      ]
     },
     "execution_count": 102,
     "metadata": {},
     "output_type": "execute_result"
    },
    {
     "data": {
      "image/png": "[encoded data removed]",
      "text/plain": [
       "<Figure size 432x288 with 1 Axes>"
      ]
     },
     "metadata": {
      "needs_background": "light"
     },
     "output_type": "display_data"
    }
   ],
   "source": [
    "# Example usage of Bunch_data: printing out tau distribution of first turn of first bunch\n",
    "tau_data = Bunch_data[0,0,:,4]\n",
    "plt.hist(tau_data,bins=\"auto\")"
   ]
  },
  {
   "cell_type": "markdown",
   "id": "1ef86438-3a2d-45a7-8f37-514dde06f15a",
   "metadata": {
    "tags": []
   },
   "source": [
    "#### Initial bunch configuration calculated prior to simulation\n"
   ]
  },
  {
   "cell_type": "code",
   "execution_count": 80,
   "id": "db0dfae9-84ee-495d-8a1d-424cba0ee039",
   "metadata": {},
   "outputs": [
    {
     "data": {
      "text/plain": [
       "(array([ 45.,  59.,  91., 109., 105., 149., 143., 137., 155., 167., 159.,\n",
       "        171., 129., 107.,  99.,  78.,  56.,  41.]),\n",
       " array([-4.99421   , -4.44030278, -3.88639556, -3.33248833, -2.77858111,\n",
       "        -2.22467389, -1.67076667, -1.11685944, -0.56295222, -0.009045  ,\n",
       "         0.54486222,  1.09876944,  1.65267667,  2.20658389,  2.76049111,\n",
       "         3.31439833,  3.86830556,  4.42221278,  4.97612   ]),\n",
       " <BarContainer object of 18 artists>)"
      ]
     },
     "execution_count": 80,
     "metadata": {},
     "output_type": "execute_result"
    },
    {
     "data": {
      "image/png": "[encoded data removed]",
      "text/plain": [
       "<Figure size 432x288 with 1 Axes>"
      ]
     },
     "metadata": {
      "needs_background": "light"
     },
     "output_type": "display_data"
    }
   ],
   "source": [
    "initial_b = read_Bunch_data(\"./build/InitialDistBunch0.csv\",nparticles, ncoordinates)\n",
    "tau_data = initial_b[:,2]\n",
    "plt.hist(tau_data,bins=\"auto\")"
   ]
  },
  {
   "cell_type": "code",
   "execution_count": null,
   "id": "71bc9c09-1355-4d6d-a987-0180d60f3435",
   "metadata": {},
   "outputs": [],
   "source": []
  }
 ],
 "metadata": {
  "kernelspec": {
   "display_name": "Python 3.9.1 (Default)",
   "language": "python",
   "name": "python3"
  },
  "language_info": {
   "codemirror_mode": {
    "name": "ipython",
    "version": 3
   },
   "file_extension": ".py",
   "mimetype": "text/x-python",
   "name": "python",
   "nbconvert_exporter": "python",
   "pygments_lexer": "ipython3",
   "version": "3.9.1"
  }
 },
 "nbformat": 4,
 "nbformat_minor": 5
}
