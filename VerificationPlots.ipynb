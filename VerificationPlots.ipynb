{
 "cells": [
  {
   "cell_type": "code",
   "execution_count": 2,
   "id": "32a9ed89-1164-4644-8dfe-50d2099bf49e",
   "metadata": {},
   "outputs": [
    {
     "name": "stdout",
     "output_type": "stream",
     "text": [
      "Failed to read and display image file from gnuplot.Possibly:\n",
      "1. You have plotted to a non interactive terminal.\n",
      "2. You have an invalid expression.\n"
     ]
    },
    {
     "data": {
      "text/plain": [
       "plot './build/TestBunch.csv' using (bin($1,binwidth)):(1.0) smooth freq with boxes\n",
       "         warning: Skipping data file with no valid points\n",
       "                                                                                           ^\n",
       "         x range is invalid\n",
       "\n"
      ]
     },
     "execution_count": 2,
     "metadata": {},
     "output_type": "execute_result"
    }
   ],
   "source": [
    "set title 'Bunch Data'\n",
    "set key autotitle columnhead\n",
    "set datafile separator ','\n",
    "binwidth=1\n",
    "bin(x,width)=width*floor(x/width)\n",
    "plot './build/TestBunch.csv' using (bin($1,binwidth)):(1.0) smooth freq with boxes"
   ]
  },
  {
   "cell_type": "code",
   "execution_count": null,
   "id": "0d541ad8-f2e3-42fb-bd11-8f545cad7a64",
   "metadata": {},
   "outputs": [],
   "source": [
    "reset\n",
    "set title 'Potential Bunch 0'\n",
    "set key autotitle columnhead\n",
    "set datafile separator ','\n",
    "plot './build/TestPot.csv'"
   ]
  },
  {
   "cell_type": "code",
   "execution_count": null,
   "id": "20ac2783-0e8f-4ea7-9c25-b3271bab4ca5",
   "metadata": {},
   "outputs": [],
   "source": [
    "reset\n",
    "set title 'Voltage Bunch 0'\n",
    "set key autotitle columnhead\n",
    "set datafile separator ','\n",
    "plot './build/TestVoltage.csv' "
   ]
  },
  {
   "cell_type": "code",
   "execution_count": null,
   "id": "30b7651a-856f-4162-afbf-feb81f3d1aba",
   "metadata": {},
   "outputs": [],
   "source": []
  }
 ],
 "metadata": {
  "kernelspec": {
   "display_name": "gnuplot",
   "language": "gnuplot",
   "name": "gnuplot"
  },
  "language_info": {
   "codemirror_mode": "Octave",
   "file_extension": ".gp",
   "help_links": [
    {
     "text": "MetaKernel Magics",
     "url": "https://metakernel.readthedocs.io/en/latest/source/README.html"
    }
   ],
   "mimetype": "text/x-gnuplot",
   "name": "gnuplot"
  }
 },
 "nbformat": 4,
 "nbformat_minor": 5
}
